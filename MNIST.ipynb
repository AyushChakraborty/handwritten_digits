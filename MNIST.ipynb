{
 "cells": [
  {
   "cell_type": "markdown",
   "metadata": {},
   "source": [
    "implementing Convolutional Neural Net to learn handwritten digits, weights and biases written explicitely without using any prebuild layers from torch"
   ]
  },
  {
   "cell_type": "code",
   "execution_count": 2,
   "metadata": {},
   "outputs": [
    {
     "name": "stderr",
     "output_type": "stream",
     "text": [
      "/opt/anaconda3/envs/env1/lib/python3.11/site-packages/tqdm/auto.py:21: TqdmWarning: IProgress not found. Please update jupyter and ipywidgets. See https://ipywidgets.readthedocs.io/en/stable/user_install.html\n",
      "  from .autonotebook import tqdm as notebook_tqdm\n"
     ]
    }
   ],
   "source": [
    "from datasets import load_dataset #type: ignore\n",
    "import matplotlib.pyplot as plt\n",
    "import torch\n",
    "import torch.nn.functional as F\n",
    "import numpy as np"
   ]
  },
  {
   "cell_type": "code",
   "execution_count": 3,
   "metadata": {},
   "outputs": [],
   "source": [
    "ds = load_dataset(\"ylecun/mnist\")   #the mnist dataset"
   ]
  },
  {
   "cell_type": "code",
   "execution_count": 4,
   "metadata": {},
   "outputs": [],
   "source": [
    "train_dataset = ds['train']\n",
    "test_dataset = ds['test']"
   ]
  },
  {
   "cell_type": "code",
   "execution_count": 5,
   "metadata": {},
   "outputs": [
    {
     "data": {
      "image/png": "[encoded data removed]",
      "text/plain": [
       "<Figure size 640x480 with 1 Axes>"
      ]
     },
     "metadata": {},
     "output_type": "display_data"
    }
   ],
   "source": [
    "example = ds['train'][0]\n",
    "image = example['image']\n",
    "plt.imshow(image, cmap='gray')\n",
    "plt.title(f\"label: {example['label']}\")\n",
    "plt.axis('off')\n",
    "plt.show()"
   ]
  },
  {
   "cell_type": "code",
   "execution_count": 6,
   "metadata": {},
   "outputs": [],
   "source": [
    "image_tensor = torch.tensor(np.array(image), dtype=torch.float32)"
   ]
  },
  {
   "cell_type": "code",
   "execution_count": 7,
   "metadata": {},
   "outputs": [
    {
     "data": {
      "text/plain": [
       "torch.Size([28, 28])"
      ]
     },
     "execution_count": 7,
     "metadata": {},
     "output_type": "execute_result"
    }
   ],
   "source": [
    "image_tensor.shape"
   ]
  },
  {
   "cell_type": "code",
   "execution_count": 8,
   "metadata": {},
   "outputs": [],
   "source": [
    "#going to implement CNN for this"
   ]
  },
  {
   "cell_type": "code",
   "execution_count": 9,
   "metadata": {},
   "outputs": [
    {
     "name": "stderr",
     "output_type": "stream",
     "text": [
      "/var/folders/t6/s1wr8gp14gl28npcdk0thstc0000gn/T/ipykernel_1324/1360348788.py:1: UserWarning: Creating a tensor from a list of numpy.ndarrays is extremely slow. Please consider converting the list to a single numpy.ndarray with numpy.array() before converting to a tensor. (Triggered internally at /Users/runner/work/pytorch/pytorch/pytorch/torch/csrc/utils/tensor_new.cpp:281.)\n",
      "  X_tr = torch.tensor([np.array(img, dtype=np.float32)/255 for img in ds['train']['image']])\n"
     ]
    },
    {
     "data": {
      "text/plain": [
       "torch.Size([60000, 28, 28])"
      ]
     },
     "execution_count": 9,
     "metadata": {},
     "output_type": "execute_result"
    }
   ],
   "source": [
    "X_tr = torch.tensor([np.array(img, dtype=np.float32)/255 for img in ds['train']['image']])\n",
    "X_tr.shape"
   ]
  },
  {
   "cell_type": "code",
   "execution_count": 67,
   "metadata": {},
   "outputs": [
    {
     "data": {
      "text/plain": [
       "torch.Size([10000, 28, 28])"
      ]
     },
     "execution_count": 67,
     "metadata": {},
     "output_type": "execute_result"
    }
   ],
   "source": [
    "X_te = torch.tensor([np.array(img, dtype=np.float32)/255 for img in ds['test']['image']])\n",
    "X_te.shape"
   ]
  },
  {
   "cell_type": "code",
   "execution_count": 18,
   "metadata": {},
   "outputs": [
    {
     "data": {
      "text/plain": [
       "torch.Size([60000])"
      ]
     },
     "execution_count": 18,
     "metadata": {},
     "output_type": "execute_result"
    }
   ],
   "source": [
    "Y_tr = torch.tensor(ds['train']['label'], dtype=torch.int32)\n",
    "Y_tr.shape"
   ]
  },
  {
   "cell_type": "code",
   "execution_count": 68,
   "metadata": {},
   "outputs": [
    {
     "data": {
      "text/plain": [
       "torch.Size([10000])"
      ]
     },
     "execution_count": 68,
     "metadata": {},
     "output_type": "execute_result"
    }
   ],
   "source": [
    "Y_te = torch.tensor(ds['test']['label'], dtype=torch.int32)\n",
    "Y_te.shape"
   ]
  },
  {
   "cell_type": "code",
   "execution_count": 19,
   "metadata": {},
   "outputs": [
    {
     "data": {
      "text/plain": [
       "tensor([5, 0, 4,  ..., 5, 6, 8], dtype=torch.int32)"
      ]
     },
     "execution_count": 19,
     "metadata": {},
     "output_type": "execute_result"
    }
   ],
   "source": [
    "Y_tr"
   ]
  },
  {
   "cell_type": "code",
   "execution_count": 20,
   "metadata": {},
   "outputs": [],
   "source": [
    "#converting X_tr to (60000, 196, 4) dim tensor\n",
    "X_tr_unfolded = X_tr.unfold(2, 2, 2).unfold(3, 2, 2).contiguous().view(60000, -1, 4)"
   ]
  },
  {
   "cell_type": "code",
   "execution_count": 21,
   "metadata": {},
   "outputs": [
    {
     "data": {
      "text/plain": [
       "torch.Size([60000, 196, 4])"
      ]
     },
     "execution_count": 21,
     "metadata": {},
     "output_type": "execute_result"
    }
   ],
   "source": [
    "X_tr_unfolded.shape"
   ]
  },
  {
   "cell_type": "code",
   "execution_count": 30,
   "metadata": {},
   "outputs": [],
   "source": [
    "W1 = torch.randn((196, 4))\n",
    "b1 = torch.randn((196, ))\n",
    "\n",
    "l1 = (W1*X_tr_unfolded).sum(dim=2) + b1 #element wise mult done by * and summation along dim 2, 14*14\n",
    "\n",
    "W2 = torch.randn((196, 196))\n",
    "b2 = torch.randn((196, ))\n",
    "\n",
    "l2 = (l1@W2) + b2  #14*14\n",
    "#changing the view of l2 \n",
    "l2 = l2.view(60000, 14, 14)\n",
    "l2_unfolded = l2.unfold(2, 2, 2).unfold(3, 2, 2).contiguous().view(60000, -1, 4)\n",
    "\n",
    "W3 = torch.randn((49, 4))\n",
    "b3 = torch.randn((49, ))\n",
    "\n",
    "l3 = (W3*l2_unfolded).sum(dim=2) + b3  #7*7\n",
    "\n",
    "W4 = torch.randn((49, 49))\n",
    "b4 = torch.randn((49, ))\n",
    "\n",
    "l4 = (l3@W4) + b4  # 7*7\n",
    "\n",
    "W5 = torch.randn((49, 10))\n",
    "b5 = torch.randn((10, ))\n",
    "\n",
    "logits = (l4@W5) + b5\n",
    "\n",
    "#loss\n",
    "nll = F.cross_entropy(logits, Y_tr.long())"
   ]
  },
  {
   "cell_type": "code",
   "execution_count": 34,
   "metadata": {},
   "outputs": [
    {
     "data": {
      "text/plain": [
       "tensor(1816.4763)"
      ]
     },
     "execution_count": 34,
     "metadata": {},
     "output_type": "execute_result"
    }
   ],
   "source": [
    "nll  #loss of 1816 at the start, lets see how this can be reduced"
   ]
  },
  {
   "cell_type": "code",
   "execution_count": 31,
   "metadata": {},
   "outputs": [
    {
     "data": {
      "text/plain": [
       "tensor([5, 0, 4,  ..., 5, 6, 8], dtype=torch.int32)"
      ]
     },
     "execution_count": 31,
     "metadata": {},
     "output_type": "execute_result"
    }
   ],
   "source": [
    "Y_tr"
   ]
  },
  {
   "cell_type": "code",
   "execution_count": 32,
   "metadata": {},
   "outputs": [
    {
     "data": {
      "text/plain": [
       "torch.Size([60000])"
      ]
     },
     "execution_count": 32,
     "metadata": {},
     "output_type": "execute_result"
    }
   ],
   "source": [
    "Y_tr.shape"
   ]
  },
  {
   "cell_type": "code",
   "execution_count": 33,
   "metadata": {},
   "outputs": [
    {
     "data": {
      "text/plain": [
       "torch.Size([60000, 10])"
      ]
     },
     "execution_count": 33,
     "metadata": {},
     "output_type": "execute_result"
    }
   ],
   "source": [
    "logits.shape"
   ]
  },
  {
   "cell_type": "code",
   "execution_count": 123,
   "metadata": {},
   "outputs": [
    {
     "data": {
      "text/plain": [
       "torch.Size([60000, 196])"
      ]
     },
     "execution_count": 123,
     "metadata": {},
     "output_type": "execute_result"
    }
   ],
   "source": [
    "l1.shape"
   ]
  },
  {
   "cell_type": "code",
   "execution_count": 35,
   "metadata": {},
   "outputs": [],
   "source": [
    "#doing it fresh from here"
   ]
  },
  {
   "cell_type": "code",
   "execution_count": 48,
   "metadata": {},
   "outputs": [],
   "source": [
    "g = torch.Generator().manual_seed(2147483647)"
   ]
  },
  {
   "cell_type": "code",
   "execution_count": 63,
   "metadata": {},
   "outputs": [],
   "source": [
    "W1 = torch.randn((196, 4), generator=g, requires_grad=True)\n",
    "b1 = torch.randn((196, ), generator=g, requires_grad=True)\n",
    "\n",
    "W2 = torch.randn((196, 196), generator=g, requires_grad=True)\n",
    "b2 = torch.randn((196, ), generator=g, requires_grad=True)\n",
    "\n",
    "W3 = torch.randn((49, 4), generator=g, requires_grad=True)\n",
    "b3 = torch.randn((49, ), generator=g, requires_grad=True)\n",
    "\n",
    "W4 = torch.randn((49, 49), generator=g, requires_grad=True)\n",
    "b4 = torch.randn((49, ), generator=g, requires_grad=True)\n",
    "\n",
    "W5 = torch.randn((49, 10), generator=g, requires_grad=True)\n",
    "b5 = torch.randn((10, ), generator=g, requires_grad=True)\n",
    "\n",
    "parameters = [W1, b1, W2, b2, W3, b3, W4, b4, W5, b5]"
   ]
  },
  {
   "cell_type": "code",
   "execution_count": 64,
   "metadata": {},
   "outputs": [
    {
     "data": {
      "text/plain": [
       "42787"
      ]
     },
     "execution_count": 64,
     "metadata": {},
     "output_type": "execute_result"
    }
   ],
   "source": [
    "sum(p.nelement() for p in parameters)  #num of params "
   ]
  },
  {
   "cell_type": "code",
   "execution_count": null,
   "metadata": {},
   "outputs": [],
   "source": [
    "#gradient descent \n",
    "for _ in range(3000):\n",
    "    #forward pass\n",
    "    l1 = (W1*X_tr_unfolded).sum(dim=2) + b1\n",
    "    \n",
    "    l2 = (l1@W2) + b2  \n",
    "    l2 = l2.view(60000, 14, 14)\n",
    "    l2_unfolded = l2.unfold(2, 2, 2).unfold(3, 2, 2).contiguous().view(60000, -1, 4)\n",
    "\n",
    "    l3 = (W3*l2_unfolded).sum(dim=2) + b3\n",
    "\n",
    "    l4 = (l3@W4) + b4\n",
    "\n",
    "    logits = (l4@W5) + b5\n",
    "\n",
    "    nll = F.cross_entropy(logits, Y_tr.long())\n",
    "    print(f\"loss at epoch {_+1}: {nll.item()}\")\n",
    "\n",
    "\n",
    "    #backprop\n",
    "    for p in parameters:\n",
    "        p.grad = None\n",
    "\n",
    "    nll.backward()\n",
    "\n",
    "\n",
    "    #update params\n",
    "    alpha = 0.001\n",
    "    for p in parameters:\n",
    "        # if (p.grad < 0):  #to stop training if we overshot local minima\n",
    "        #     break\n",
    "        # else:\n",
    "        p.data += -alpha*p.grad"
   ]
  },
  {
   "cell_type": "code",
   "execution_count": 66,
   "metadata": {},
   "outputs": [
    {
     "data": {
      "text/plain": [
       "tensor(4.3497, grad_fn=<NllLossBackward0>)"
      ]
     },
     "execution_count": 66,
     "metadata": {},
     "output_type": "execute_result"
    }
   ],
   "source": [
    "#egs code below\n",
    "nll"
   ]
  },
  {
   "cell_type": "code",
   "execution_count": 70,
   "metadata": {},
   "outputs": [
    {
     "name": "stdout",
     "output_type": "stream",
     "text": [
      "loss at test: 4.447265148162842\n"
     ]
    }
   ],
   "source": [
    "#test loss\n",
    "\n",
    "X_te_unfolded = X_te.unfold(2, 2, 2).unfold(3, 2, 2).contiguous().view(10000, -1, 4)\n",
    "\n",
    "l1 = (W1*X_te_unfolded).sum(dim=2) + b1\n",
    "\n",
    "l2 = (l1@W2) + b2  \n",
    "l2 = l2.view(10000, 14, 14)\n",
    "l2_unfolded = l2.unfold(2, 2, 2).unfold(3, 2, 2).contiguous().view(10000, -1, 4)\n",
    "\n",
    "l3 = (W3*l2_unfolded).sum(dim=2) + b3\n",
    "\n",
    "l4 = (l3@W4) + b4\n",
    "\n",
    "logits = (l4@W5) + b5\n",
    "\n",
    "nll = F.cross_entropy(logits, Y_te.long())\n",
    "print(f\"loss at test: {nll.item()}\")"
   ]
  },
  {
   "cell_type": "code",
   "execution_count": 71,
   "metadata": {},
   "outputs": [],
   "source": [
    "def out_logits(X):\n",
    "    X_unfolded = X.unfold(2, 2, 2).unfold(3, 2, 2).contiguous().view(X.shape[0], -1, 4)\n",
    "\n",
    "    l1 = (W1*X_unfolded).sum(dim=2) + b1\n",
    "\n",
    "    l2 = (l1@W2) + b2  \n",
    "    l2 = l2.view(X.shape[0], 14, 14)\n",
    "    l2_unfolded = l2.unfold(2, 2, 2).unfold(3, 2, 2).contiguous().view(X.shape[0], -1, 4)\n",
    "\n",
    "    l3 = (W3*l2_unfolded).sum(dim=2) + b3\n",
    "\n",
    "    l4 = (l3@W4) + b4\n",
    "\n",
    "    logits = (l4@W5) + b5\n",
    "\n",
    "    return logits"
   ]
  },
  {
   "cell_type": "code",
   "execution_count": 92,
   "metadata": {},
   "outputs": [
    {
     "name": "stdout",
     "output_type": "stream",
     "text": [
      "tensor([7, 2, 1,  ..., 4, 5, 6])\n",
      "tensor([7, 2, 1,  ..., 4, 5, 6], dtype=torch.int32)\n"
     ]
    }
   ],
   "source": [
    "#getting some predictions\n",
    "logits_1 = out_logits(X_te)\n",
    "probs = F.softmax(logits_1, dim=1)\n",
    "# print(probs)\n",
    "\n",
    "max_probs, max_indices = torch.max(probs, dim=1)\n",
    "print(max_indices)\n",
    "print(Y_te)   #almost all match\n",
    "#loss went down from 1700 to 4, pretty good amount"
   ]
  },
  {
   "cell_type": "code",
   "execution_count": null,
   "metadata": {},
   "outputs": [],
   "source": [
    "#some rough work"
   ]
  },
  {
   "cell_type": "code",
   "execution_count": 113,
   "metadata": {},
   "outputs": [],
   "source": [
    "X = torch.tensor([\n",
    "    [[\n",
    "        [1, 2, 3, 4],\n",
    "        [11, 12, 13, 14],\n",
    "        [21, 22, 23, 24],\n",
    "        [31, 32, 33, 34]\n",
    "    ], \n",
    "    [\n",
    "        [100, 200, 300, 400],\n",
    "        [110, 120, 130, 140],\n",
    "        [210, 220, 230, 240],\n",
    "        [310, 320, 330, 340]\n",
    "    ]\n",
    "    ]\n",
    "], dtype=torch.float32)\n"
   ]
  },
  {
   "cell_type": "code",
   "execution_count": 114,
   "metadata": {},
   "outputs": [],
   "source": [
    "X_un = X.unfold(2, 2, 2).unfold(3, 2, 2).contiguous().view(2, -1, 4)"
   ]
  },
  {
   "cell_type": "code",
   "execution_count": 117,
   "metadata": {},
   "outputs": [],
   "source": [
    "W = torch.randn((4, 4))\n",
    "l = (W*X_un).sum(dim=2)"
   ]
  },
  {
   "cell_type": "code",
   "execution_count": 118,
   "metadata": {},
   "outputs": [
    {
     "data": {
      "text/plain": [
       "tensor([[[  1.,   2.,  11.,  12.],\n",
       "         [  3.,   4.,  13.,  14.],\n",
       "         [ 21.,  22.,  31.,  32.],\n",
       "         [ 23.,  24.,  33.,  34.]],\n",
       "\n",
       "        [[100., 200., 110., 120.],\n",
       "         [300., 400., 130., 140.],\n",
       "         [210., 220., 310., 320.],\n",
       "         [230., 240., 330., 340.]]])"
      ]
     },
     "execution_count": 118,
     "metadata": {},
     "output_type": "execute_result"
    }
   ],
   "source": [
    "X_un"
   ]
  },
  {
   "cell_type": "code",
   "execution_count": 119,
   "metadata": {},
   "outputs": [
    {
     "data": {
      "text/plain": [
       "tensor([[  24.7785,    1.9992,  -18.1983,  -24.0900],\n",
       "        [ 737.3009, -781.8102, -181.9827, -240.8997]])"
      ]
     },
     "execution_count": 119,
     "metadata": {},
     "output_type": "execute_result"
    }
   ],
   "source": [
    "l"
   ]
  },
  {
   "cell_type": "code",
   "execution_count": null,
   "metadata": {},
   "outputs": [],
   "source": []
  }
 ],
 "metadata": {
  "kernelspec": {
   "display_name": "env1",
   "language": "python",
   "name": "python3"
  },
  "language_info": {
   "codemirror_mode": {
    "name": "ipython",
    "version": 3
   },
   "file_extension": ".py",
   "mimetype": "text/x-python",
   "name": "python",
   "nbconvert_exporter": "python",
   "pygments_lexer": "ipython3",
   "version": "3.11.5"
  }
 },
 "nbformat": 4,
 "nbformat_minor": 2
}
